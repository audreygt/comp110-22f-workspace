{
 "cells": [
  {
   "cell_type": "markdown",
   "metadata": {},
   "source": [
    "# Demo Juptyer Notebook\n",
    "Markdown is used to have texts. \n",
    "This notebook will exemplify **some** of the common uses in Python Jupyter notebook. "
   ]
  },
  {
   "cell_type": "code",
   "execution_count": null,
   "metadata": {},
   "outputs": [],
   "source": [
    "name: str = \"Audrey\"\n",
    "print(f\"Hello, {name}\")\n",
    "user: str = \"Shelly\"\n",
    "print(f\"Hello {user}\")"
   ]
  },
  {
   "cell_type": "markdown",
   "metadata": {},
   "source": [
    "## Formatting Markdown Notes \n",
    "\n",
    "* consists of lists, [links - Mark down cheat sheet](https://www.markdownguide.org/cheat-sheet)\n",
    "* when program is fresh, no variables have been evaluated yet\n",
    "*   restart kernel to run all code cells\n",
    "* code blocks must be ran in order to evaluate other cells \n",
    "* must save file to save the entire notebook and code cells\n",
    "* clear output of all code cells ensure no present errors\n",
    "* restart: changes made in earlier cells will not be present in later cells until this function"
   ]
  },
  {
   "cell_type": "code",
   "execution_count": null,
   "metadata": {},
   "outputs": [],
   "source": [
    "print(f\"Another reference to {name} made in this cell.\")\n",
    "print(f\"Another reference to {user} made in this cell.\")"
   ]
  },
  {
   "cell_type": "markdown",
   "metadata": {},
   "source": [
    "### Useful Keyboard Shortcuts \n",
    "1. `Control + Enter` Execute a cell and leave the cursor in cell \n",
    "2. `Shift + Enter` Execute a cell and move to next cell\n",
    "3. elipses will allow cells to be changed between markdown or code"
   ]
  },
  {
   "cell_type": "code",
   "execution_count": null,
   "metadata": {},
   "outputs": [],
   "source": [
    "print(\"Some important computation...\")\n",
    "total: float = 110.0 + 1000.0\n",
    "print(total)"
   ]
  },
  {
   "cell_type": "code",
   "execution_count": null,
   "metadata": {},
   "outputs": [],
   "source": [
    "print(\"Some important computation...\")\n",
    "total: float = 110.0 + 1000.0\n",
    "total += 117.0\n",
    "total"
   ]
  },
  {
   "cell_type": "markdown",
   "metadata": {},
   "source": [
    "### Expresion written as last line of cells are automatically output\n",
    "* does not need the print function at the end of every cell"
   ]
  },
  {
   "cell_type": "markdown",
   "metadata": {},
   "source": [
    "### Importing functions fron other files \n"
   ]
  },
  {
   "cell_type": "code",
   "execution_count": null,
   "metadata": {},
   "outputs": [],
   "source": [
    "import notebook_helpers \n",
    "notebook_helpers.add_two_integers(1, 16)\n",
    "\n",
    "from notebook_helpers import add_two_integers\n",
    "add_two_integers(4, 40)\n"
   ]
  }
 ],
 "metadata": {
  "kernelspec": {
   "display_name": "Python 3.10.6 64-bit",
   "language": "python",
   "name": "python3"
  },
  "language_info": {
   "codemirror_mode": {
    "name": "ipython",
    "version": 3
   },
   "file_extension": ".py",
   "mimetype": "text/x-python",
   "name": "python",
   "nbconvert_exporter": "python",
   "pygments_lexer": "ipython3",
   "version": "3.10.6"
  },
  "orig_nbformat": 4,
  "vscode": {
   "interpreter": {
    "hash": "00bc4ceaf41a935a8c923c975a61c4e9f24f237358531785df1b35e4f9a994a3"
   }
  }
 },
 "nbformat": 4,
 "nbformat_minor": 2
}
