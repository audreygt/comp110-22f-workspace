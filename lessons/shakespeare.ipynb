{
 "cells": [
  {
   "cell_type": "markdown",
   "metadata": {},
   "source": [
    "### Quantifying Shakepeare \n",
    "\n",
    "Downloading the plain text corpus from Shakespear's work: <https://bit.ly/shakespeare-txt>\n",
    "\n",
    "#### Plan of Action \n",
    "\n",
    "1. read every line of text into a list of strings \n",
    "2. Count the frequencies of each letter \n",
    "3. Visualize the frquencies "
   ]
  },
  {
   "cell_type": "code",
   "execution_count": 8,
   "metadata": {},
   "outputs": [
    {
     "name": "stdout",
     "output_type": "stream",
     "text": [
      "124455\n"
     ]
    }
   ],
   "source": [
    "# Read lines from the file \n",
    "from io import TextIOWrapper\n",
    "\n",
    "\n",
    "def read_lines(filename: str) -> list[str]:\n",
    "    \"\"\"Reading every line from filename into a list of strings.\"\"\"\n",
    "    lines: list[str] = []\n",
    "    file_handle: TextIOWrapper = open(filename, \"r\")\n",
    "    for line in file_handle:\n",
    "        line = line.lower()\n",
    "        line = line.strip()\n",
    "        lines.append(line)\n",
    "    return lines \n",
    "\n",
    "shakespeare_lines: list[str] = read_lines(\"./shakespeare.txt\")\n",
    "print(len(shakespeare_lines))\n",
    "\n",
    "def tally(words: dict[str, int], letters: str) -> None:\n",
    "    \"\"\"Counting the frequency of words given.\"\"\"\n",
    "    if letters in words:\n",
    "        words[letters] += 1 \n",
    "    else: \n",
    "        words[letters] = 1\n",
    "\n",
    "\n",
    "def count_letters(lines: list[str]) -> dict[str, int]:\n",
    "    counting: dict[str, int] = {}\n",
    "    for line in shakespeare_lines:\n",
    "        for character in line:\n",
    "            if character >= 'a' and character <= 'z':\n",
    "                tally(counting, character)\n",
    "    return counting\n",
    "\n",
    "shakespeare_letters: dict[str, int] = count_letters(shakespeare_lines)"
   ]
  },
  {
   "cell_type": "markdown",
   "metadata": {},
   "source": [
    "#### Tally up the characters of the works \n",
    "\n",
    "* Goal: define a function named tally \n",
    "* give the function 2 parameters \n",
    " 1. a dictionary reference to any key type str, vakye type int \n",
    " 2. a str key \n",
    "* if key is in dictionary, increase count by 1 "
   ]
  },
  {
   "cell_type": "code",
   "execution_count": 3,
   "metadata": {},
   "outputs": [
    {
     "ename": "NameError",
     "evalue": "name 'shakespeare_letters' is not defined",
     "output_type": "error",
     "traceback": [
      "\u001b[1;31m---------------------------------------------------------------------------\u001b[0m",
      "\u001b[1;31mNameError\u001b[0m                                 Traceback (most recent call last)",
      "\u001b[1;32mc:\\Users\\Grace\\OneDrive\\School Work\\Documents & Downloads\\COMP 110 Assignments\\comp110-22f-workspace\\lessons\\shakespeare.ipynb Cell 4\u001b[0m in \u001b[0;36m<cell line: 6>\u001b[1;34m()\u001b[0m\n\u001b[0;32m      <a href='vscode-notebook-cell:/c%3A/Users/Grace/OneDrive/School%20Work/Documents%20%26%20Downloads/COMP%20110%20Assignments/comp110-22f-workspace/lessons/shakespeare.ipynb#W4sZmlsZQ%3D%3D?line=3'>4</a>\u001b[0m pyplot\u001b[39m.\u001b[39mxlabel(\u001b[39m\"\u001b[39m\u001b[39mLetters\u001b[39m\u001b[39m\"\u001b[39m)\n\u001b[0;32m      <a href='vscode-notebook-cell:/c%3A/Users/Grace/OneDrive/School%20Work/Documents%20%26%20Downloads/COMP%20110%20Assignments/comp110-22f-workspace/lessons/shakespeare.ipynb#W4sZmlsZQ%3D%3D?line=4'>5</a>\u001b[0m pyplot\u001b[39m.\u001b[39mylabel(\u001b[39m\"\u001b[39m\u001b[39mFrequencies\u001b[39m\u001b[39m\"\u001b[39m)\n\u001b[1;32m----> <a href='vscode-notebook-cell:/c%3A/Users/Grace/OneDrive/School%20Work/Documents%20%26%20Downloads/COMP%20110%20Assignments/comp110-22f-workspace/lessons/shakespeare.ipynb#W4sZmlsZQ%3D%3D?line=5'>6</a>\u001b[0m labels: \u001b[39mlist\u001b[39m[\u001b[39mstr\u001b[39m] \u001b[39m=\u001b[39m \u001b[39mlist\u001b[39m(shakespeare_letters\u001b[39m.\u001b[39mkeys())\n\u001b[0;32m      <a href='vscode-notebook-cell:/c%3A/Users/Grace/OneDrive/School%20Work/Documents%20%26%20Downloads/COMP%20110%20Assignments/comp110-22f-workspace/lessons/shakespeare.ipynb#W4sZmlsZQ%3D%3D?line=6'>7</a>\u001b[0m values: \u001b[39mlist\u001b[39m[\u001b[39mint\u001b[39m] \u001b[39m=\u001b[39m \u001b[39mlist\u001b[39m(shakespeare_letters\u001b[39m.\u001b[39mvalues())\n\u001b[0;32m      <a href='vscode-notebook-cell:/c%3A/Users/Grace/OneDrive/School%20Work/Documents%20%26%20Downloads/COMP%20110%20Assignments/comp110-22f-workspace/lessons/shakespeare.ipynb#W4sZmlsZQ%3D%3D?line=7'>8</a>\u001b[0m pyplot\u001b[39m.\u001b[39mbar(labels, values)\n",
      "\u001b[1;31mNameError\u001b[0m: name 'shakespeare_letters' is not defined"
     ]
    },
    {
     "data": {
      "image/png": "[encoded data removed]",
      "text/plain": [
       "<Figure size 432x288 with 1 Axes>"
      ]
     },
     "metadata": {
      "needs_background": "light"
     },
     "output_type": "display_data"
    }
   ],
   "source": [
    "from matplotlib import pyplot\n",
    "\n",
    "pyplot.title(\"Freqnecies of Letters\")\n",
    "pyplot.xlabel(\"Letters\")\n",
    "pyplot.ylabel(\"Frequencies\")\n",
    "labels: list[str] = list(shakespeare_letters.keys())\n",
    "values: list[int] = list(shakespeare_letters.values())\n",
    "pyplot.bar(labels, values)"
   ]
  }
 ],
 "metadata": {
  "kernelspec": {
   "display_name": "Python 3.10.6 64-bit",
   "language": "python",
   "name": "python3"
  },
  "language_info": {
   "codemirror_mode": {
    "name": "ipython",
    "version": 3
   },
   "file_extension": ".py",
   "mimetype": "text/x-python",
   "name": "python",
   "nbconvert_exporter": "python",
   "pygments_lexer": "ipython3",
   "version": "3.10.6"
  },
  "orig_nbformat": 4,
  "vscode": {
   "interpreter": {
    "hash": "00bc4ceaf41a935a8c923c975a61c4e9f24f237358531785df1b35e4f9a994a3"
   }
  }
 },
 "nbformat": 4,
 "nbformat_minor": 2
}
