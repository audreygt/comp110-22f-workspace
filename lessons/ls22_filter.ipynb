{
 "cells": [
  {
   "cell_type": "markdown",
   "metadata": {},
   "source": [
    "# Filtering Data Based on Criteria\n",
    "\n",
    "In this lesson, we will use a simple, small, old dataset of weather projections in Chapel Hill for Thursday, March 25th, through Saturday, April 3rd, of 2022. Each row is the projection for the next day in that timeframe.\n",
    "\n",
    "Our analysis goal is to find the average temperatures on days where it is unlikely (less than 30%) to rain.\n",
    "\n",
    "We will consider approaching this problem from a column-oriented perspective.\n",
    "\n",
    "First, let's consider our data set."
   ]
  },
  {
   "cell_type": "code",
   "execution_count": 9,
   "metadata": {},
   "outputs": [
    {
     "data": {
      "text/plain": [
       "{'high': [77, 84, 78, 79, 65, 67, 74, 61, 55, 61],\n",
       " 'low': [67, 51, 64, 45, 43, 53, 56, 37, 34, 42],\n",
       " 'rain': [0.3, 0.2, 0.4, 0.8, 0.0, 0.2, 0.4, 0.5, 0.1, 0.1]}"
      ]
     },
     "execution_count": 9,
     "metadata": {},
     "output_type": "execute_result"
    }
   ],
   "source": [
    "col_data: dict[str, list[float]] = {\n",
    "    \"high\": [77, 84, 78, 79, 65, 67, 74, 61, 55, 61],\n",
    "    \"low\":  [67, 51, 64, 45, 43, 53, 56, 37, 34, 42],\n",
    "    \"rain\": [.3, .2, .4, .8, 0., .2, .4, .5, .1, .1]\n",
    "}\n",
    "\n",
    "col_data"
   ]
  },
  {
   "cell_type": "markdown",
   "metadata": {},
   "source": [
    "### Produce a \"Mask\" Based on Criteria"
   ]
  },
  {
   "cell_type": "code",
   "execution_count": 16,
   "metadata": {},
   "outputs": [
    {
     "name": "stdout",
     "output_type": "stream",
     "text": [
      "[False, True, False, False, True, True, False, False, True, True]\n"
     ]
    }
   ],
   "source": [
    "def less_than(column: list[float], threshold: float) -> list[bool]:\n",
    " # Look through each of the list values belonging to each dictionary key to see if rain is less than 30%\n",
    "    result: list[bool] = []\n",
    "    for item in column:\n",
    "        result.append(item < threshold)\n",
    "        # if item < threshold:\n",
    "        #   result.append(True)\n",
    "        # else: \n",
    "        #   result.append(False)\n",
    "        # commented out because there is a better way to code\n",
    "    return result \n",
    "\n",
    "\n",
    "no_rain: list[bool] = less_than(col_data[\"rain\"], 0.3)\n",
    "print(no_rain)"
   ]
  },
  {
   "cell_type": "markdown",
   "metadata": {},
   "source": [
    "#### Masking the Values \n",
    "* the true and false results from the list masks the actual percetages \n",
    "* correspond the true and false results to the temperature in high and low temperatures "
   ]
  },
  {
   "cell_type": "code",
   "execution_count": 19,
   "metadata": {},
   "outputs": [
    {
     "name": "stdout",
     "output_type": "stream",
     "text": [
      "[0.3, 0.2, 0.4, 0.8, 0.0, 0.2, 0.4, 0.5, 0.1, 0.1]\n",
      "[False, True, False, False, True, True, False, False, True, True]\n",
      "[77, 84, 78, 79, 65, 67, 74, 61, 55, 61]\n",
      "[84, 65, 67, 55, 61]\n"
     ]
    }
   ],
   "source": [
    "# Masked function: \n",
    "# - takes in a column and a list of masks(bool values)\n",
    "def masked (column: list[float], masks: list[bool]) -> list[float]:\n",
    "    no_rain_temps: list[float] = []\n",
    "    for item in range(len(masks)):\n",
    "        if masks[item]:\n",
    "            no_rain_temps.append(column[item])\n",
    "    return no_rain_temps\n",
    "\n",
    "\n",
    "print(col_data[\"rain\"])\n",
    "print(no_rain)\n",
    "print(col_data[\"high\"])\n",
    "hightemp_norain: list[float] = masked(col_data[\"high\"], no_rain)\n",
    "print(hightemp_norain)"
   ]
  },
  {
   "cell_type": "markdown",
   "metadata": {},
   "source": [
    "#### Compute the Average of High Days with No Rain "
   ]
  },
  {
   "cell_type": "code",
   "execution_count": 20,
   "metadata": {},
   "outputs": [
    {
     "data": {
      "text/plain": [
       "66.4"
      ]
     },
     "execution_count": 20,
     "metadata": {},
     "output_type": "execute_result"
    }
   ],
   "source": [
    "def mean(column: list[float]) -> float:\n",
    "    return sum(column) / len(column)\n",
    "\n",
    "mean(hightemp_norain)"
   ]
  },
  {
   "cell_type": "markdown",
   "metadata": {},
   "source": [
    "#### With the functions provided, many analyses can be made:"
   ]
  },
  {
   "cell_type": "code",
   "execution_count": 22,
   "metadata": {},
   "outputs": [
    {
     "name": "stdout",
     "output_type": "stream",
     "text": [
      "[False, False, False, True, True, False, False, True, True, True]\n",
      "0.30000000000000004\n"
     ]
    }
   ],
   "source": [
    "cold_days: list[bool] = less_than(col_data[\"low\"], 50)\n",
    "print(cold_days)\n",
    "colddays_yesrain: list[float] = masked(col_data[\"rain\"], cold_days)\n",
    "print(mean(colddays_yesrain))"
   ]
  }
 ],
 "metadata": {
  "kernelspec": {
   "display_name": "Python 3.10.6 64-bit",
   "language": "python",
   "name": "python3"
  },
  "language_info": {
   "codemirror_mode": {
    "name": "ipython",
    "version": 3
   },
   "file_extension": ".py",
   "mimetype": "text/x-python",
   "name": "python",
   "nbconvert_exporter": "python",
   "pygments_lexer": "ipython3",
   "version": "3.10.6"
  },
  "orig_nbformat": 4,
  "vscode": {
   "interpreter": {
    "hash": "00bc4ceaf41a935a8c923c975a61c4e9f24f237358531785df1b35e4f9a994a3"
   }
  }
 },
 "nbformat": 4,
 "nbformat_minor": 2
}
